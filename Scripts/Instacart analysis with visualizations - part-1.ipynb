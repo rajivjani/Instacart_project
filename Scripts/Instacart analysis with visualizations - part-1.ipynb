{
 "cells": [
  {
   "cell_type": "code",
   "execution_count": 1,
   "id": "fd49b78c",
   "metadata": {},
   "outputs": [],
   "source": [
    "#Import libraries\n",
    "import pandas as pd\n",
    "import numpy as np\n",
    "import os\n",
    "import seaborn as sns\n",
    "import matplotlib.pyplot as plt"
   ]
  },
  {
   "cell_type": "code",
   "execution_count": 2,
   "id": "ea2f9b4e",
   "metadata": {},
   "outputs": [],
   "source": [
    "# Import data file\n",
    "df_ready = pd.read_pickle(r'C:\\Users\\Pakshil Jani\\Desktop\\career foundry\\Chapter-4 Python\\Instacart project analysis\\Data\\Prepared Data\\df_ready.pkl')"
   ]
  },
  {
   "cell_type": "code",
   "execution_count": 3,
   "id": "1dbe1435",
   "metadata": {
    "scrolled": false
   },
   "outputs": [
    {
     "data": {
      "text/html": [
       "<div>\n",
       "<style scoped>\n",
       "    .dataframe tbody tr th:only-of-type {\n",
       "        vertical-align: middle;\n",
       "    }\n",
       "\n",
       "    .dataframe tbody tr th {\n",
       "        vertical-align: top;\n",
       "    }\n",
       "\n",
       "    .dataframe thead th {\n",
       "        text-align: right;\n",
       "    }\n",
       "</style>\n",
       "<table border=\"1\" class=\"dataframe\">\n",
       "  <thead>\n",
       "    <tr style=\"text-align: right;\">\n",
       "      <th></th>\n",
       "      <th>order_id</th>\n",
       "      <th>product_id</th>\n",
       "      <th>product_name</th>\n",
       "      <th>prices</th>\n",
       "      <th>department</th>\n",
       "      <th>user_id</th>\n",
       "      <th>order_number</th>\n",
       "      <th>order_dow</th>\n",
       "      <th>order_hour_of_day</th>\n",
       "      <th>days_since_prior_order</th>\n",
       "    </tr>\n",
       "  </thead>\n",
       "  <tbody>\n",
       "    <tr>\n",
       "      <th>0</th>\n",
       "      <td>1107</td>\n",
       "      <td>1</td>\n",
       "      <td>Chocolate Sandwich Cookies</td>\n",
       "      <td>5.8</td>\n",
       "      <td>snacks</td>\n",
       "      <td>38259</td>\n",
       "      <td>2</td>\n",
       "      <td>1</td>\n",
       "      <td>11</td>\n",
       "      <td>7.0</td>\n",
       "    </tr>\n",
       "    <tr>\n",
       "      <th>1</th>\n",
       "      <td>1107</td>\n",
       "      <td>46149</td>\n",
       "      <td>Zero Calorie Cola</td>\n",
       "      <td>13.4</td>\n",
       "      <td>beverages</td>\n",
       "      <td>38259</td>\n",
       "      <td>2</td>\n",
       "      <td>1</td>\n",
       "      <td>11</td>\n",
       "      <td>7.0</td>\n",
       "    </tr>\n",
       "    <tr>\n",
       "      <th>2</th>\n",
       "      <td>1107</td>\n",
       "      <td>9434</td>\n",
       "      <td>Bag of Large Lemons</td>\n",
       "      <td>8.3</td>\n",
       "      <td>frozen</td>\n",
       "      <td>38259</td>\n",
       "      <td>2</td>\n",
       "      <td>1</td>\n",
       "      <td>11</td>\n",
       "      <td>7.0</td>\n",
       "    </tr>\n",
       "  </tbody>\n",
       "</table>\n",
       "</div>"
      ],
      "text/plain": [
       "   order_id  product_id                product_name  prices department  \\\n",
       "0      1107           1  Chocolate Sandwich Cookies     5.8     snacks   \n",
       "1      1107       46149           Zero Calorie Cola    13.4  beverages   \n",
       "2      1107        9434         Bag of Large Lemons     8.3     frozen   \n",
       "\n",
       "   user_id  order_number  order_dow  order_hour_of_day  days_since_prior_order  \n",
       "0    38259             2          1                 11                     7.0  \n",
       "1    38259             2          1                 11                     7.0  \n",
       "2    38259             2          1                 11                     7.0  "
      ]
     },
     "execution_count": 3,
     "metadata": {},
     "output_type": "execute_result"
    }
   ],
   "source": [
    "df_ready.head(3)"
   ]
  },
  {
   "cell_type": "code",
   "execution_count": 4,
   "id": "2b2ebda0",
   "metadata": {
    "scrolled": true
   },
   "outputs": [
    {
     "data": {
      "text/plain": [
       "(32399732, 10)"
      ]
     },
     "execution_count": 4,
     "metadata": {},
     "output_type": "execute_result"
    }
   ],
   "source": [
    "df_ready.shape"
   ]
  },
  {
   "cell_type": "code",
   "execution_count": 5,
   "id": "9cebaf3f",
   "metadata": {},
   "outputs": [],
   "source": [
    "# Creating a new column to identify maximum orders by each customer\n",
    "df_ready['max_order'] = df_ready.groupby(['user_id'])['order_number'].transform(np.max)"
   ]
  },
  {
   "cell_type": "code",
   "execution_count": 6,
   "id": "121c8224",
   "metadata": {
    "scrolled": true
   },
   "outputs": [
    {
     "data": {
      "text/html": [
       "<div>\n",
       "<style scoped>\n",
       "    .dataframe tbody tr th:only-of-type {\n",
       "        vertical-align: middle;\n",
       "    }\n",
       "\n",
       "    .dataframe tbody tr th {\n",
       "        vertical-align: top;\n",
       "    }\n",
       "\n",
       "    .dataframe thead th {\n",
       "        text-align: right;\n",
       "    }\n",
       "</style>\n",
       "<table border=\"1\" class=\"dataframe\">\n",
       "  <thead>\n",
       "    <tr style=\"text-align: right;\">\n",
       "      <th></th>\n",
       "      <th>order_id</th>\n",
       "      <th>product_id</th>\n",
       "      <th>product_name</th>\n",
       "      <th>prices</th>\n",
       "      <th>department</th>\n",
       "      <th>user_id</th>\n",
       "      <th>order_number</th>\n",
       "      <th>order_dow</th>\n",
       "      <th>order_hour_of_day</th>\n",
       "      <th>days_since_prior_order</th>\n",
       "      <th>max_order</th>\n",
       "    </tr>\n",
       "  </thead>\n",
       "  <tbody>\n",
       "    <tr>\n",
       "      <th>0</th>\n",
       "      <td>1107</td>\n",
       "      <td>1</td>\n",
       "      <td>Chocolate Sandwich Cookies</td>\n",
       "      <td>5.8</td>\n",
       "      <td>snacks</td>\n",
       "      <td>38259</td>\n",
       "      <td>2</td>\n",
       "      <td>1</td>\n",
       "      <td>11</td>\n",
       "      <td>7.0</td>\n",
       "      <td>4</td>\n",
       "    </tr>\n",
       "    <tr>\n",
       "      <th>1</th>\n",
       "      <td>1107</td>\n",
       "      <td>46149</td>\n",
       "      <td>Zero Calorie Cola</td>\n",
       "      <td>13.4</td>\n",
       "      <td>beverages</td>\n",
       "      <td>38259</td>\n",
       "      <td>2</td>\n",
       "      <td>1</td>\n",
       "      <td>11</td>\n",
       "      <td>7.0</td>\n",
       "      <td>4</td>\n",
       "    </tr>\n",
       "    <tr>\n",
       "      <th>2</th>\n",
       "      <td>1107</td>\n",
       "      <td>9434</td>\n",
       "      <td>Bag of Large Lemons</td>\n",
       "      <td>8.3</td>\n",
       "      <td>frozen</td>\n",
       "      <td>38259</td>\n",
       "      <td>2</td>\n",
       "      <td>1</td>\n",
       "      <td>11</td>\n",
       "      <td>7.0</td>\n",
       "      <td>4</td>\n",
       "    </tr>\n",
       "  </tbody>\n",
       "</table>\n",
       "</div>"
      ],
      "text/plain": [
       "   order_id  product_id                product_name  prices department  \\\n",
       "0      1107           1  Chocolate Sandwich Cookies     5.8     snacks   \n",
       "1      1107       46149           Zero Calorie Cola    13.4  beverages   \n",
       "2      1107        9434         Bag of Large Lemons     8.3     frozen   \n",
       "\n",
       "   user_id  order_number  order_dow  order_hour_of_day  \\\n",
       "0    38259             2          1                 11   \n",
       "1    38259             2          1                 11   \n",
       "2    38259             2          1                 11   \n",
       "\n",
       "   days_since_prior_order  max_order  \n",
       "0                     7.0          4  \n",
       "1                     7.0          4  \n",
       "2                     7.0          4  "
      ]
     },
     "execution_count": 6,
     "metadata": {},
     "output_type": "execute_result"
    }
   ],
   "source": [
    "df_ready.head(3)"
   ]
  },
  {
   "cell_type": "code",
   "execution_count": 7,
   "id": "4f8df7b7",
   "metadata": {
    "scrolled": true
   },
   "outputs": [
    {
     "data": {
      "text/html": [
       "<div>\n",
       "<style scoped>\n",
       "    .dataframe tbody tr th:only-of-type {\n",
       "        vertical-align: middle;\n",
       "    }\n",
       "\n",
       "    .dataframe tbody tr th {\n",
       "        vertical-align: top;\n",
       "    }\n",
       "\n",
       "    .dataframe thead tr th {\n",
       "        text-align: left;\n",
       "    }\n",
       "\n",
       "    .dataframe thead tr:last-of-type th {\n",
       "        text-align: right;\n",
       "    }\n",
       "</style>\n",
       "<table border=\"1\" class=\"dataframe\">\n",
       "  <thead>\n",
       "    <tr>\n",
       "      <th></th>\n",
       "      <th>order_number</th>\n",
       "    </tr>\n",
       "    <tr>\n",
       "      <th></th>\n",
       "      <th>mean</th>\n",
       "    </tr>\n",
       "    <tr>\n",
       "      <th>department</th>\n",
       "      <th></th>\n",
       "    </tr>\n",
       "  </thead>\n",
       "  <tbody>\n",
       "    <tr>\n",
       "      <th>alcohol</th>\n",
       "      <td>15.215751</td>\n",
       "    </tr>\n",
       "    <tr>\n",
       "      <th>babies</th>\n",
       "      <td>19.310397</td>\n",
       "    </tr>\n",
       "    <tr>\n",
       "      <th>bakery</th>\n",
       "      <td>17.170395</td>\n",
       "    </tr>\n",
       "    <tr>\n",
       "      <th>beverages</th>\n",
       "      <td>17.225802</td>\n",
       "    </tr>\n",
       "    <tr>\n",
       "      <th>breakfast</th>\n",
       "      <td>16.773669</td>\n",
       "    </tr>\n",
       "    <tr>\n",
       "      <th>bulk</th>\n",
       "      <td>20.197148</td>\n",
       "    </tr>\n",
       "    <tr>\n",
       "      <th>canned goods</th>\n",
       "      <td>16.165037</td>\n",
       "    </tr>\n",
       "    <tr>\n",
       "      <th>dairy eggs</th>\n",
       "      <td>17.667853</td>\n",
       "    </tr>\n",
       "    <tr>\n",
       "      <th>deli</th>\n",
       "      <td>16.473447</td>\n",
       "    </tr>\n",
       "    <tr>\n",
       "      <th>dry goods pasta</th>\n",
       "      <td>15.895474</td>\n",
       "    </tr>\n",
       "    <tr>\n",
       "      <th>frozen</th>\n",
       "      <td>15.457838</td>\n",
       "    </tr>\n",
       "    <tr>\n",
       "      <th>household</th>\n",
       "      <td>15.694469</td>\n",
       "    </tr>\n",
       "    <tr>\n",
       "      <th>international</th>\n",
       "      <td>16.439806</td>\n",
       "    </tr>\n",
       "    <tr>\n",
       "      <th>meat seafood</th>\n",
       "      <td>15.887671</td>\n",
       "    </tr>\n",
       "    <tr>\n",
       "      <th>missing</th>\n",
       "      <td>22.902379</td>\n",
       "    </tr>\n",
       "    <tr>\n",
       "      <th>other</th>\n",
       "      <td>17.277920</td>\n",
       "    </tr>\n",
       "    <tr>\n",
       "      <th>pantry</th>\n",
       "      <td>16.583536</td>\n",
       "    </tr>\n",
       "    <tr>\n",
       "      <th>personal care</th>\n",
       "      <td>16.170638</td>\n",
       "    </tr>\n",
       "    <tr>\n",
       "      <th>pets</th>\n",
       "      <td>15.340650</td>\n",
       "    </tr>\n",
       "    <tr>\n",
       "      <th>produce</th>\n",
       "      <td>17.811403</td>\n",
       "    </tr>\n",
       "    <tr>\n",
       "      <th>snacks</th>\n",
       "      <td>17.177343</td>\n",
       "    </tr>\n",
       "  </tbody>\n",
       "</table>\n",
       "</div>"
      ],
      "text/plain": [
       "                order_number\n",
       "                        mean\n",
       "department                  \n",
       "alcohol            15.215751\n",
       "babies             19.310397\n",
       "bakery             17.170395\n",
       "beverages          17.225802\n",
       "breakfast          16.773669\n",
       "bulk               20.197148\n",
       "canned goods       16.165037\n",
       "dairy eggs         17.667853\n",
       "deli               16.473447\n",
       "dry goods pasta    15.895474\n",
       "frozen             15.457838\n",
       "household          15.694469\n",
       "international      16.439806\n",
       "meat seafood       15.887671\n",
       "missing            22.902379\n",
       "other              17.277920\n",
       "pantry             16.583536\n",
       "personal care      16.170638\n",
       "pets               15.340650\n",
       "produce            17.811403\n",
       "snacks             17.177343"
      ]
     },
     "execution_count": 7,
     "metadata": {},
     "output_type": "execute_result"
    },
    {
     "data": {
      "image/png": "[encoded data removed]",
      "text/plain": [
       "<Figure size 432x288 with 1 Axes>"
      ]
     },
     "metadata": {
      "needs_background": "light"
     },
     "output_type": "display_data"
    }
   ],
   "source": [
    "# Which is the most andleast popular department in Instacart in terms of order volume?\n",
    "df_ready.groupby('department').agg({'order_number':['mean']}).plot.bar()\n",
    "plt.legend()\n",
    "df_ready.groupby('department').agg({'order_number':['mean']})"
   ]
  },
  {
   "cell_type": "code",
   "execution_count": 8,
   "id": "ecd3245a",
   "metadata": {},
   "outputs": [
    {
     "data": {
      "text/html": [
       "<div>\n",
       "<style scoped>\n",
       "    .dataframe tbody tr th:only-of-type {\n",
       "        vertical-align: middle;\n",
       "    }\n",
       "\n",
       "    .dataframe tbody tr th {\n",
       "        vertical-align: top;\n",
       "    }\n",
       "\n",
       "    .dataframe thead tr th {\n",
       "        text-align: left;\n",
       "    }\n",
       "\n",
       "    .dataframe thead tr:last-of-type th {\n",
       "        text-align: right;\n",
       "    }\n",
       "</style>\n",
       "<table border=\"1\" class=\"dataframe\">\n",
       "  <thead>\n",
       "    <tr>\n",
       "      <th></th>\n",
       "      <th>prices</th>\n",
       "      <th>order_number</th>\n",
       "    </tr>\n",
       "    <tr>\n",
       "      <th></th>\n",
       "      <th>mean</th>\n",
       "      <th>mean</th>\n",
       "    </tr>\n",
       "    <tr>\n",
       "      <th>product_name</th>\n",
       "      <th></th>\n",
       "      <th></th>\n",
       "    </tr>\n",
       "  </thead>\n",
       "  <tbody>\n",
       "    <tr>\n",
       "      <th>#2 Coffee Filters</th>\n",
       "      <td>11.0</td>\n",
       "      <td>19.308880</td>\n",
       "    </tr>\n",
       "    <tr>\n",
       "      <th>#2 Cone White Coffee Filters</th>\n",
       "      <td>5.7</td>\n",
       "      <td>16.615385</td>\n",
       "    </tr>\n",
       "    <tr>\n",
       "      <th>#2 Mechanical Pencils</th>\n",
       "      <td>9.2</td>\n",
       "      <td>17.000000</td>\n",
       "    </tr>\n",
       "    <tr>\n",
       "      <th>#4 Natural Brown Coffee Filters</th>\n",
       "      <td>2.5</td>\n",
       "      <td>18.178423</td>\n",
       "    </tr>\n",
       "    <tr>\n",
       "      <th>#NAME?</th>\n",
       "      <td>3.6</td>\n",
       "      <td>12.586207</td>\n",
       "    </tr>\n",
       "    <tr>\n",
       "      <th>...</th>\n",
       "      <td>...</td>\n",
       "      <td>...</td>\n",
       "    </tr>\n",
       "    <tr>\n",
       "      <th>with Xylitol Unwrapped Original Flavor 50 Sticks Sugar Free Gum</th>\n",
       "      <td>5.4</td>\n",
       "      <td>33.513514</td>\n",
       "    </tr>\n",
       "    <tr>\n",
       "      <th>with Xylitol Unwrapped Spearmint 50 Sticks Sugar Free Gum</th>\n",
       "      <td>5.2</td>\n",
       "      <td>15.672727</td>\n",
       "    </tr>\n",
       "    <tr>\n",
       "      <th>with Xylitol Watermelon Twist 18 Sticks Sugar Free Gum</th>\n",
       "      <td>3.5</td>\n",
       "      <td>20.470588</td>\n",
       "    </tr>\n",
       "    <tr>\n",
       "      <th>with a Splash of Mango Coconut Water</th>\n",
       "      <td>2.6</td>\n",
       "      <td>12.739130</td>\n",
       "    </tr>\n",
       "    <tr>\n",
       "      <th>with a Splash of Pineapple Coconut Water</th>\n",
       "      <td>4.2</td>\n",
       "      <td>17.830189</td>\n",
       "    </tr>\n",
       "  </tbody>\n",
       "</table>\n",
       "<p>49659 rows × 2 columns</p>\n",
       "</div>"
      ],
      "text/plain": [
       "                                                   prices order_number\n",
       "                                                     mean         mean\n",
       "product_name                                                          \n",
       "#2 Coffee Filters                                    11.0    19.308880\n",
       "#2 Cone White Coffee Filters                          5.7    16.615385\n",
       "#2 Mechanical Pencils                                 9.2    17.000000\n",
       "#4 Natural Brown Coffee Filters                       2.5    18.178423\n",
       "#NAME?                                                3.6    12.586207\n",
       "...                                                   ...          ...\n",
       "with Xylitol Unwrapped Original Flavor 50 Stick...    5.4    33.513514\n",
       "with Xylitol Unwrapped Spearmint 50 Sticks Suga...    5.2    15.672727\n",
       "with Xylitol Watermelon Twist 18 Sticks Sugar F...    3.5    20.470588\n",
       "with a Splash of Mango Coconut Water                  2.6    12.739130\n",
       "with a Splash of Pineapple Coconut Water              4.2    17.830189\n",
       "\n",
       "[49659 rows x 2 columns]"
      ]
     },
     "execution_count": 8,
     "metadata": {},
     "output_type": "execute_result"
    }
   ],
   "source": [
    "df_ready.groupby('product_name').agg({'prices':['mean'],'order_number':['mean']})"
   ]
  },
  {
   "cell_type": "code",
   "execution_count": 13,
   "id": "349b36e9",
   "metadata": {
    "scrolled": true
   },
   "outputs": [
    {
     "data": {
      "text/plain": [
       "<matplotlib.legend.Legend at 0x1dd10904dc0>"
      ]
     },
     "execution_count": 13,
     "metadata": {},
     "output_type": "execute_result"
    },
    {
     "data": {
      "image/png": "[encoded data removed]",
      "text/plain": [
       "<Figure size 432x288 with 1 Axes>"
      ]
     },
     "metadata": {
      "needs_background": "light"
     },
     "output_type": "display_data"
    }
   ],
   "source": [
    "# Price range offered to customers\n",
    "df_ready.prices.plot.hist(bins=25)\n",
    "plt.legend()"
   ]
  },
  {
   "cell_type": "code",
   "execution_count": 16,
   "id": "dd4b1a05",
   "metadata": {
    "scrolled": true
   },
   "outputs": [
    {
     "data": {
      "text/plain": [
       "<matplotlib.legend.Legend at 0x1dd0144f700>"
      ]
     },
     "execution_count": 16,
     "metadata": {},
     "output_type": "execute_result"
    },
    {
     "data": {
      "image/png": "[encoded data removed]",
      "text/plain": [
       "<Figure size 432x288 with 1 Axes>"
      ]
     },
     "metadata": {
      "needs_background": "light"
     },
     "output_type": "display_data"
    }
   ],
   "source": [
    "# Which are busiest hours for instacart? For staffing and app load, this is important factor...\n",
    "df_ready.order_hour_of_day.plot.hist(bins=24)\n",
    "plt.legend()"
   ]
  },
  {
   "cell_type": "code",
   "execution_count": 17,
   "id": "71b7f883",
   "metadata": {
    "scrolled": true
   },
   "outputs": [
    {
     "data": {
      "text/plain": [
       "<matplotlib.legend.Legend at 0x1dd010ed430>"
      ]
     },
     "execution_count": 17,
     "metadata": {},
     "output_type": "execute_result"
    },
    {
     "data": {
      "image/png": "[encoded data removed]",
      "text/plain": [
       "<Figure size 432x288 with 1 Axes>"
      ]
     },
     "metadata": {
      "needs_background": "light"
     },
     "output_type": "display_data"
    }
   ],
   "source": [
    "# Which days customers place most and least orders? For staffing and potential load sharing opportunities...\n",
    "# 0=Saturday, 1=Sunday, 2=Monday, 3=Tuesday, 4=Wednesday, 5=Thursday, 6=Friday\n",
    "df_ready.order_dow.plot.hist(bins=24)\n",
    "plt.legend()"
   ]
  },
  {
   "cell_type": "code",
   "execution_count": 31,
   "id": "e246c9fb",
   "metadata": {
    "scrolled": false
   },
   "outputs": [
    {
     "data": {
      "text/plain": [
       "<AxesSubplot:>"
      ]
     },
     "execution_count": 31,
     "metadata": {},
     "output_type": "execute_result"
    },
    {
     "data": {
      "image/png": "[encoded data removed]",
      "text/plain": [
       "<Figure size 432x288 with 1 Axes>"
      ]
     },
     "metadata": {
      "needs_background": "light"
     },
     "output_type": "display_data"
    }
   ],
   "source": [
    "#How frequently customers place orders to instacart? Are there more repeat orders?\n",
    "# From 0 days to 30 days and above\n",
    "df_ready.days_since_prior_order.hist(bins=100)\n"
   ]
  },
  {
   "cell_type": "code",
   "execution_count": 42,
   "id": "61cb6df5",
   "metadata": {},
   "outputs": [
    {
     "data": {
      "text/plain": [
       "0.0      448272\n",
       "1.0      940331\n",
       "2.0     1463521\n",
       "3.0     1875906\n",
       "4.0     2078317\n",
       "5.0     2124150\n",
       "6.0     2517165\n",
       "7.0     3475708\n",
       "8.0     1931662\n",
       "9.0     1217643\n",
       "10.0     967012\n",
       "11.0     820626\n",
       "12.0     774008\n",
       "13.0     850986\n",
       "14.0    1029483\n",
       "15.0     671336\n",
       "16.0     461237\n",
       "17.0     382055\n",
       "18.0     350528\n",
       "19.0     334812\n",
       "20.0     379671\n",
       "21.0     444068\n",
       "22.0     308798\n",
       "23.0     225793\n",
       "24.0     193385\n",
       "25.0     180385\n",
       "26.0     177744\n",
       "27.0     204025\n",
       "28.0     253114\n",
       "29.0     175444\n",
       "30.0    3066802\n",
       "Name: days_since_prior_order, dtype: int64"
      ]
     },
     "execution_count": 42,
     "metadata": {},
     "output_type": "execute_result"
    }
   ],
   "source": [
    "df_ready.days_since_prior_order.value_counts().sort_index()\n",
    "#3.4 million orders are within 7 days(Repeat orders) and 3.06 milliom orders are 30 days older(New customers)"
   ]
  },
  {
   "cell_type": "code",
   "execution_count": 44,
   "id": "d4299136",
   "metadata": {},
   "outputs": [],
   "source": [
    "# Classifying in to groups to identify loyal customers\n",
    "df_ready.loc[df_ready['max_order'] > 40, 'loyalty_flag'] = 'Loyal customer'\n",
    "df_ready.loc[(df_ready['max_order'] <= 40) & (df_ready['max_order'] > 10), 'loyalty_flag'] = 'Regular customer'\n",
    "df_ready.loc[df_ready['max_order'] <= 10, 'loyalty_flag'] = 'New customer'"
   ]
  },
  {
   "cell_type": "code",
   "execution_count": 49,
   "id": "a33a0777",
   "metadata": {},
   "outputs": [
    {
     "data": {
      "text/plain": [
       "Regular customer    15874128\n",
       "Loyal customer      10282763\n",
       "New customer         6242841\n",
       "Name: loyalty_flag, dtype: int64"
      ]
     },
     "execution_count": 49,
     "metadata": {},
     "output_type": "execute_result"
    },
    {
     "data": {
      "image/png": "[encoded data removed]",
      "text/plain": [
       "<Figure size 432x288 with 1 Axes>"
      ]
     },
     "metadata": {
      "needs_background": "light"
     },
     "output_type": "display_data"
    }
   ],
   "source": [
    "# What proportion of customers are new vs regular vs loyal for instacart?\n",
    "df_ready.loyalty_flag.value_counts().plot.bar()\n",
    "plt.legend()\n",
    "df_ready.loyalty_flag.value_counts()"
   ]
  },
  {
   "cell_type": "code",
   "execution_count": 54,
   "id": "2608263a",
   "metadata": {},
   "outputs": [
    {
     "data": {
      "text/html": [
       "<div>\n",
       "<style scoped>\n",
       "    .dataframe tbody tr th:only-of-type {\n",
       "        vertical-align: middle;\n",
       "    }\n",
       "\n",
       "    .dataframe tbody tr th {\n",
       "        vertical-align: top;\n",
       "    }\n",
       "\n",
       "    .dataframe thead tr th {\n",
       "        text-align: left;\n",
       "    }\n",
       "\n",
       "    .dataframe thead tr:last-of-type th {\n",
       "        text-align: right;\n",
       "    }\n",
       "</style>\n",
       "<table border=\"1\" class=\"dataframe\">\n",
       "  <thead>\n",
       "    <tr>\n",
       "      <th></th>\n",
       "      <th>prices</th>\n",
       "      <th>order_number</th>\n",
       "    </tr>\n",
       "    <tr>\n",
       "      <th></th>\n",
       "      <th>mean</th>\n",
       "      <th>mean</th>\n",
       "    </tr>\n",
       "    <tr>\n",
       "      <th>loyalty_flag</th>\n",
       "      <th></th>\n",
       "      <th></th>\n",
       "    </tr>\n",
       "  </thead>\n",
       "  <tbody>\n",
       "    <tr>\n",
       "      <th>Loyal customer</th>\n",
       "      <td>7.773575</td>\n",
       "      <td>32.641215</td>\n",
       "    </tr>\n",
       "    <tr>\n",
       "      <th>New customer</th>\n",
       "      <td>7.801206</td>\n",
       "      <td>3.807035</td>\n",
       "    </tr>\n",
       "    <tr>\n",
       "      <th>Regular customer</th>\n",
       "      <td>7.798262</td>\n",
       "      <td>12.347571</td>\n",
       "    </tr>\n",
       "  </tbody>\n",
       "</table>\n",
       "</div>"
      ],
      "text/plain": [
       "                    prices order_number\n",
       "                      mean         mean\n",
       "loyalty_flag                           \n",
       "Loyal customer    7.773575    32.641215\n",
       "New customer      7.801206     3.807035\n",
       "Regular customer  7.798262    12.347571"
      ]
     },
     "execution_count": 54,
     "metadata": {},
     "output_type": "execute_result"
    },
    {
     "data": {
      "image/png": "[encoded data removed]",
      "text/plain": [
       "<Figure size 432x288 with 1 Axes>"
      ]
     },
     "metadata": {
      "needs_background": "light"
     },
     "output_type": "display_data"
    }
   ],
   "source": [
    "# Customers with different loyalty flag vs prices\n",
    "df_ready.groupby(['loyalty_flag']).agg({'prices':['mean'],'order_number':['mean']}).plot.bar()\n",
    "df_ready.groupby(['loyalty_flag']).agg({'prices':['mean'],'order_number':['mean']})"
   ]
  },
  {
   "cell_type": "code",
   "execution_count": 56,
   "id": "527238f1",
   "metadata": {},
   "outputs": [
    {
     "data": {
      "text/html": [
       "<div>\n",
       "<style scoped>\n",
       "    .dataframe tbody tr th:only-of-type {\n",
       "        vertical-align: middle;\n",
       "    }\n",
       "\n",
       "    .dataframe tbody tr th {\n",
       "        vertical-align: top;\n",
       "    }\n",
       "\n",
       "    .dataframe thead tr th {\n",
       "        text-align: left;\n",
       "    }\n",
       "\n",
       "    .dataframe thead tr:last-of-type th {\n",
       "        text-align: right;\n",
       "    }\n",
       "</style>\n",
       "<table border=\"1\" class=\"dataframe\">\n",
       "  <thead>\n",
       "    <tr>\n",
       "      <th></th>\n",
       "      <th colspan=\"3\" halign=\"left\">prices</th>\n",
       "    </tr>\n",
       "    <tr>\n",
       "      <th></th>\n",
       "      <th>max</th>\n",
       "      <th>min</th>\n",
       "      <th>mean</th>\n",
       "    </tr>\n",
       "    <tr>\n",
       "      <th>user_id</th>\n",
       "      <th></th>\n",
       "      <th></th>\n",
       "      <th></th>\n",
       "    </tr>\n",
       "  </thead>\n",
       "  <tbody>\n",
       "    <tr>\n",
       "      <th>1</th>\n",
       "      <td>14.0</td>\n",
       "      <td>1.0</td>\n",
       "      <td>6.367797</td>\n",
       "    </tr>\n",
       "    <tr>\n",
       "      <th>2</th>\n",
       "      <td>14.8</td>\n",
       "      <td>1.3</td>\n",
       "      <td>7.515897</td>\n",
       "    </tr>\n",
       "    <tr>\n",
       "      <th>3</th>\n",
       "      <td>14.4</td>\n",
       "      <td>1.3</td>\n",
       "      <td>8.197727</td>\n",
       "    </tr>\n",
       "    <tr>\n",
       "      <th>4</th>\n",
       "      <td>14.6</td>\n",
       "      <td>1.4</td>\n",
       "      <td>8.205556</td>\n",
       "    </tr>\n",
       "    <tr>\n",
       "      <th>5</th>\n",
       "      <td>14.8</td>\n",
       "      <td>3.2</td>\n",
       "      <td>9.189189</td>\n",
       "    </tr>\n",
       "    <tr>\n",
       "      <th>6</th>\n",
       "      <td>19.6</td>\n",
       "      <td>1.8</td>\n",
       "      <td>8.471429</td>\n",
       "    </tr>\n",
       "    <tr>\n",
       "      <th>7</th>\n",
       "      <td>23.2</td>\n",
       "      <td>1.1</td>\n",
       "      <td>7.466990</td>\n",
       "    </tr>\n",
       "    <tr>\n",
       "      <th>8</th>\n",
       "      <td>14.4</td>\n",
       "      <td>1.1</td>\n",
       "      <td>8.781633</td>\n",
       "    </tr>\n",
       "    <tr>\n",
       "      <th>9</th>\n",
       "      <td>19.3</td>\n",
       "      <td>1.2</td>\n",
       "      <td>7.607895</td>\n",
       "    </tr>\n",
       "    <tr>\n",
       "      <th>10</th>\n",
       "      <td>24.2</td>\n",
       "      <td>1.0</td>\n",
       "      <td>8.651049</td>\n",
       "    </tr>\n",
       "  </tbody>\n",
       "</table>\n",
       "</div>"
      ],
      "text/plain": [
       "        prices               \n",
       "           max  min      mean\n",
       "user_id                      \n",
       "1         14.0  1.0  6.367797\n",
       "2         14.8  1.3  7.515897\n",
       "3         14.4  1.3  8.197727\n",
       "4         14.6  1.4  8.205556\n",
       "5         14.8  3.2  9.189189\n",
       "6         19.6  1.8  8.471429\n",
       "7         23.2  1.1  7.466990\n",
       "8         14.4  1.1  8.781633\n",
       "9         19.3  1.2  7.607895\n",
       "10        24.2  1.0  8.651049"
      ]
     },
     "execution_count": 56,
     "metadata": {},
     "output_type": "execute_result"
    }
   ],
   "source": [
    "# pricing pattern for customers with mean,min and max prices\n",
    "df_ready.groupby(['user_id']).agg({'prices':['max','min','mean']}).head(10)"
   ]
  },
  {
   "cell_type": "code",
   "execution_count": 57,
   "id": "1822848b",
   "metadata": {},
   "outputs": [],
   "source": [
    "#Creating spending flag based on average price of items purchased by each customer\n",
    "df_ready['spending_flag'] = df_ready.groupby(['user_id'])['prices'].transform(np.mean)"
   ]
  },
  {
   "cell_type": "code",
   "execution_count": 66,
   "id": "98d36d5f",
   "metadata": {},
   "outputs": [
    {
     "data": {
      "text/html": [
       "<div>\n",
       "<style scoped>\n",
       "    .dataframe tbody tr th:only-of-type {\n",
       "        vertical-align: middle;\n",
       "    }\n",
       "\n",
       "    .dataframe tbody tr th {\n",
       "        vertical-align: top;\n",
       "    }\n",
       "\n",
       "    .dataframe thead th {\n",
       "        text-align: right;\n",
       "    }\n",
       "</style>\n",
       "<table border=\"1\" class=\"dataframe\">\n",
       "  <thead>\n",
       "    <tr style=\"text-align: right;\">\n",
       "      <th></th>\n",
       "      <th>order_id</th>\n",
       "      <th>product_id</th>\n",
       "      <th>product_name</th>\n",
       "      <th>prices</th>\n",
       "      <th>department</th>\n",
       "      <th>user_id</th>\n",
       "      <th>order_number</th>\n",
       "      <th>order_dow</th>\n",
       "      <th>order_hour_of_day</th>\n",
       "      <th>days_since_prior_order</th>\n",
       "      <th>max_order</th>\n",
       "      <th>loyalty_flag</th>\n",
       "      <th>spending_flag</th>\n",
       "    </tr>\n",
       "  </thead>\n",
       "  <tbody>\n",
       "    <tr>\n",
       "      <th>0</th>\n",
       "      <td>1107</td>\n",
       "      <td>1</td>\n",
       "      <td>Chocolate Sandwich Cookies</td>\n",
       "      <td>5.8</td>\n",
       "      <td>snacks</td>\n",
       "      <td>38259</td>\n",
       "      <td>2</td>\n",
       "      <td>1</td>\n",
       "      <td>11</td>\n",
       "      <td>7.0</td>\n",
       "      <td>4</td>\n",
       "      <td>New customer</td>\n",
       "      <td>7.163333</td>\n",
       "    </tr>\n",
       "    <tr>\n",
       "      <th>1</th>\n",
       "      <td>1107</td>\n",
       "      <td>46149</td>\n",
       "      <td>Zero Calorie Cola</td>\n",
       "      <td>13.4</td>\n",
       "      <td>beverages</td>\n",
       "      <td>38259</td>\n",
       "      <td>2</td>\n",
       "      <td>1</td>\n",
       "      <td>11</td>\n",
       "      <td>7.0</td>\n",
       "      <td>4</td>\n",
       "      <td>New customer</td>\n",
       "      <td>7.163333</td>\n",
       "    </tr>\n",
       "    <tr>\n",
       "      <th>2</th>\n",
       "      <td>1107</td>\n",
       "      <td>9434</td>\n",
       "      <td>Bag of Large Lemons</td>\n",
       "      <td>8.3</td>\n",
       "      <td>frozen</td>\n",
       "      <td>38259</td>\n",
       "      <td>2</td>\n",
       "      <td>1</td>\n",
       "      <td>11</td>\n",
       "      <td>7.0</td>\n",
       "      <td>4</td>\n",
       "      <td>New customer</td>\n",
       "      <td>7.163333</td>\n",
       "    </tr>\n",
       "  </tbody>\n",
       "</table>\n",
       "</div>"
      ],
      "text/plain": [
       "   order_id  product_id                product_name  prices department  \\\n",
       "0      1107           1  Chocolate Sandwich Cookies     5.8     snacks   \n",
       "1      1107       46149           Zero Calorie Cola    13.4  beverages   \n",
       "2      1107        9434         Bag of Large Lemons     8.3     frozen   \n",
       "\n",
       "   user_id  order_number  order_dow  order_hour_of_day  \\\n",
       "0    38259             2          1                 11   \n",
       "1    38259             2          1                 11   \n",
       "2    38259             2          1                 11   \n",
       "\n",
       "   days_since_prior_order  max_order  loyalty_flag  spending_flag  \n",
       "0                     7.0          4  New customer       7.163333  \n",
       "1                     7.0          4  New customer       7.163333  \n",
       "2                     7.0          4  New customer       7.163333  "
      ]
     },
     "execution_count": 66,
     "metadata": {},
     "output_type": "execute_result"
    }
   ],
   "source": [
    "df_ready.head(3).sort_values('user_id')"
   ]
  },
  {
   "cell_type": "code",
   "execution_count": 59,
   "id": "c402268d",
   "metadata": {},
   "outputs": [
    {
     "data": {
      "text/plain": [
       "1.000000     18\n",
       "1.100000      7\n",
       "1.100000     20\n",
       "1.200000      8\n",
       "1.262500      8\n",
       "             ..\n",
       "18.233333     9\n",
       "19.400000     9\n",
       "20.000000     3\n",
       "20.114286     7\n",
       "23.200000     3\n",
       "Name: spending_flag, Length: 164624, dtype: int64"
      ]
     },
     "execution_count": 59,
     "metadata": {},
     "output_type": "execute_result"
    }
   ],
   "source": [
    "df_ready.spending_flag.value_counts().sort_index()"
   ]
  },
  {
   "cell_type": "code",
   "execution_count": 69,
   "id": "d9dff8d3",
   "metadata": {},
   "outputs": [],
   "source": [
    "# Categorizing customers based on spending pattern as high or low spender\n",
    "df_ready.loc[df_ready.spending_flag>10, 'spender_flag'] = 'high_spender'\n",
    "df_ready.loc[df_ready.spending_flag<=10, 'spender_flag'] = 'low_spender'"
   ]
  },
  {
   "cell_type": "code",
   "execution_count": 70,
   "id": "ac7533a7",
   "metadata": {},
   "outputs": [
    {
     "data": {
      "text/plain": [
       "low_spender     32280154\n",
       "high_spender      119578\n",
       "Name: spender_flag, dtype: int64"
      ]
     },
     "execution_count": 70,
     "metadata": {},
     "output_type": "execute_result"
    }
   ],
   "source": [
    "df_ready.spender_flag.value_counts()"
   ]
  },
  {
   "cell_type": "code",
   "execution_count": 76,
   "id": "01e9277e",
   "metadata": {},
   "outputs": [
    {
     "data": {
      "text/html": [
       "<div>\n",
       "<style scoped>\n",
       "    .dataframe tbody tr th:only-of-type {\n",
       "        vertical-align: middle;\n",
       "    }\n",
       "\n",
       "    .dataframe tbody tr th {\n",
       "        vertical-align: top;\n",
       "    }\n",
       "\n",
       "    .dataframe thead th {\n",
       "        text-align: right;\n",
       "    }\n",
       "</style>\n",
       "<table border=\"1\" class=\"dataframe\">\n",
       "  <thead>\n",
       "    <tr style=\"text-align: right;\">\n",
       "      <th>loyalty_flag</th>\n",
       "      <th>Loyal customer</th>\n",
       "      <th>New customer</th>\n",
       "      <th>Regular customer</th>\n",
       "    </tr>\n",
       "    <tr>\n",
       "      <th>spender_flag</th>\n",
       "      <th></th>\n",
       "      <th></th>\n",
       "      <th></th>\n",
       "    </tr>\n",
       "  </thead>\n",
       "  <tbody>\n",
       "    <tr>\n",
       "      <th>high_spender</th>\n",
       "      <td>13895</td>\n",
       "      <td>58502</td>\n",
       "      <td>47181</td>\n",
       "    </tr>\n",
       "    <tr>\n",
       "      <th>low_spender</th>\n",
       "      <td>10268868</td>\n",
       "      <td>6184339</td>\n",
       "      <td>15826947</td>\n",
       "    </tr>\n",
       "  </tbody>\n",
       "</table>\n",
       "</div>"
      ],
      "text/plain": [
       "loyalty_flag  Loyal customer  New customer  Regular customer\n",
       "spender_flag                                                \n",
       "high_spender           13895         58502             47181\n",
       "low_spender         10268868       6184339          15826947"
      ]
     },
     "execution_count": 76,
     "metadata": {},
     "output_type": "execute_result"
    }
   ],
   "source": [
    "# Comparing spender flag vs loyalty flag\n",
    "cross_tab_spender=pd.crosstab(df_ready['spender_flag'],df_ready['loyalty_flag'],dropna=False)\n",
    "cross_tab_spender\n"
   ]
  },
  {
   "cell_type": "code",
   "execution_count": 78,
   "id": "f595e501",
   "metadata": {},
   "outputs": [
    {
     "data": {
      "text/plain": [
       "<matplotlib.legend.Legend at 0x1dd0366a880>"
      ]
     },
     "execution_count": 78,
     "metadata": {},
     "output_type": "execute_result"
    },
    {
     "data": {
      "image/png": "[encoded data removed]",
      "text/plain": [
       "<Figure size 432x288 with 1 Axes>"
      ]
     },
     "metadata": {
      "needs_background": "light"
     },
     "output_type": "display_data"
    }
   ],
   "source": [
    "cross_tab_spender.plot.bar()\n",
    "plt.legend()"
   ]
  },
  {
   "cell_type": "code",
   "execution_count": 80,
   "id": "389a3905",
   "metadata": {},
   "outputs": [
    {
     "data": {
      "text/html": [
       "<div>\n",
       "<style scoped>\n",
       "    .dataframe tbody tr th:only-of-type {\n",
       "        vertical-align: middle;\n",
       "    }\n",
       "\n",
       "    .dataframe tbody tr th {\n",
       "        vertical-align: top;\n",
       "    }\n",
       "\n",
       "    .dataframe thead th {\n",
       "        text-align: right;\n",
       "    }\n",
       "</style>\n",
       "<table border=\"1\" class=\"dataframe\">\n",
       "  <thead>\n",
       "    <tr style=\"text-align: right;\">\n",
       "      <th>order_hour_of_day</th>\n",
       "      <th>0</th>\n",
       "      <th>1</th>\n",
       "      <th>2</th>\n",
       "      <th>3</th>\n",
       "      <th>4</th>\n",
       "      <th>5</th>\n",
       "      <th>6</th>\n",
       "      <th>7</th>\n",
       "      <th>8</th>\n",
       "      <th>9</th>\n",
       "      <th>...</th>\n",
       "      <th>14</th>\n",
       "      <th>15</th>\n",
       "      <th>16</th>\n",
       "      <th>17</th>\n",
       "      <th>18</th>\n",
       "      <th>19</th>\n",
       "      <th>20</th>\n",
       "      <th>21</th>\n",
       "      <th>22</th>\n",
       "      <th>23</th>\n",
       "    </tr>\n",
       "    <tr>\n",
       "      <th>spender_flag</th>\n",
       "      <th></th>\n",
       "      <th></th>\n",
       "      <th></th>\n",
       "      <th></th>\n",
       "      <th></th>\n",
       "      <th></th>\n",
       "      <th></th>\n",
       "      <th></th>\n",
       "      <th></th>\n",
       "      <th></th>\n",
       "      <th></th>\n",
       "      <th></th>\n",
       "      <th></th>\n",
       "      <th></th>\n",
       "      <th></th>\n",
       "      <th></th>\n",
       "      <th></th>\n",
       "      <th></th>\n",
       "      <th></th>\n",
       "      <th></th>\n",
       "      <th></th>\n",
       "    </tr>\n",
       "  </thead>\n",
       "  <tbody>\n",
       "    <tr>\n",
       "      <th>high_spender</th>\n",
       "      <td>1092</td>\n",
       "      <td>471</td>\n",
       "      <td>383</td>\n",
       "      <td>237</td>\n",
       "      <td>249</td>\n",
       "      <td>324</td>\n",
       "      <td>932</td>\n",
       "      <td>3263</td>\n",
       "      <td>5607</td>\n",
       "      <td>8185</td>\n",
       "      <td>...</td>\n",
       "      <td>9621</td>\n",
       "      <td>9968</td>\n",
       "      <td>9238</td>\n",
       "      <td>8291</td>\n",
       "      <td>6870</td>\n",
       "      <td>5551</td>\n",
       "      <td>3742</td>\n",
       "      <td>2649</td>\n",
       "      <td>1714</td>\n",
       "      <td>1353</td>\n",
       "    </tr>\n",
       "    <tr>\n",
       "      <th>low_spender</th>\n",
       "      <td>217650</td>\n",
       "      <td>115212</td>\n",
       "      <td>68977</td>\n",
       "      <td>51031</td>\n",
       "      <td>52983</td>\n",
       "      <td>87620</td>\n",
       "      <td>289518</td>\n",
       "      <td>887660</td>\n",
       "      <td>1712256</td>\n",
       "      <td>2445657</td>\n",
       "      <td>...</td>\n",
       "      <td>2679107</td>\n",
       "      <td>2651750</td>\n",
       "      <td>2525506</td>\n",
       "      <td>2078982</td>\n",
       "      <td>1629356</td>\n",
       "      <td>1252525</td>\n",
       "      <td>972258</td>\n",
       "      <td>792879</td>\n",
       "      <td>632445</td>\n",
       "      <td>400919</td>\n",
       "    </tr>\n",
       "  </tbody>\n",
       "</table>\n",
       "<p>2 rows × 24 columns</p>\n",
       "</div>"
      ],
      "text/plain": [
       "order_hour_of_day      0       1      2      3      4      5       6       7   \\\n",
       "spender_flag                                                                    \n",
       "high_spender         1092     471    383    237    249    324     932    3263   \n",
       "low_spender        217650  115212  68977  51031  52983  87620  289518  887660   \n",
       "\n",
       "order_hour_of_day       8        9   ...       14       15       16       17  \\\n",
       "spender_flag                         ...                                       \n",
       "high_spender          5607     8185  ...     9621     9968     9238     8291   \n",
       "low_spender        1712256  2445657  ...  2679107  2651750  2525506  2078982   \n",
       "\n",
       "order_hour_of_day       18       19      20      21      22      23  \n",
       "spender_flag                                                         \n",
       "high_spender          6870     5551    3742    2649    1714    1353  \n",
       "low_spender        1629356  1252525  972258  792879  632445  400919  \n",
       "\n",
       "[2 rows x 24 columns]"
      ]
     },
     "execution_count": 80,
     "metadata": {},
     "output_type": "execute_result"
    }
   ],
   "source": [
    "cross_tab_spender_time=pd.crosstab(df_ready['spender_flag'],df_ready['order_hour_of_day'],dropna=False)\n",
    "cross_tab_spender_time"
   ]
  },
  {
   "cell_type": "code",
   "execution_count": 101,
   "id": "7231488d",
   "metadata": {},
   "outputs": [],
   "source": [
    "# Getting to know more about high spender customers\n",
    "df_high_spender = df_ready[df_ready['spender_flag']=='high_spender']"
   ]
  },
  {
   "cell_type": "code",
   "execution_count": 102,
   "id": "23e1acd9",
   "metadata": {},
   "outputs": [
    {
     "data": {
      "text/html": [
       "<div>\n",
       "<style scoped>\n",
       "    .dataframe tbody tr th:only-of-type {\n",
       "        vertical-align: middle;\n",
       "    }\n",
       "\n",
       "    .dataframe tbody tr th {\n",
       "        vertical-align: top;\n",
       "    }\n",
       "\n",
       "    .dataframe thead th {\n",
       "        text-align: right;\n",
       "    }\n",
       "</style>\n",
       "<table border=\"1\" class=\"dataframe\">\n",
       "  <thead>\n",
       "    <tr style=\"text-align: right;\">\n",
       "      <th></th>\n",
       "      <th>order_id</th>\n",
       "      <th>product_id</th>\n",
       "      <th>product_name</th>\n",
       "      <th>prices</th>\n",
       "      <th>department</th>\n",
       "      <th>user_id</th>\n",
       "      <th>order_number</th>\n",
       "      <th>order_dow</th>\n",
       "      <th>order_hour_of_day</th>\n",
       "      <th>days_since_prior_order</th>\n",
       "      <th>max_order</th>\n",
       "      <th>loyalty_flag</th>\n",
       "      <th>spending_flag</th>\n",
       "      <th>spender_flag</th>\n",
       "    </tr>\n",
       "  </thead>\n",
       "  <tbody>\n",
       "    <tr>\n",
       "      <th>2839</th>\n",
       "      <td>528251</td>\n",
       "      <td>1</td>\n",
       "      <td>Chocolate Sandwich Cookies</td>\n",
       "      <td>5.8</td>\n",
       "      <td>snacks</td>\n",
       "      <td>161636</td>\n",
       "      <td>27</td>\n",
       "      <td>1</td>\n",
       "      <td>17</td>\n",
       "      <td>9.0</td>\n",
       "      <td>36</td>\n",
       "      <td>Regular customer</td>\n",
       "      <td>10.553333</td>\n",
       "      <td>high_spender</td>\n",
       "    </tr>\n",
       "    <tr>\n",
       "      <th>2840</th>\n",
       "      <td>528251</td>\n",
       "      <td>34518</td>\n",
       "      <td>Diet Lemon-Lime Soda</td>\n",
       "      <td>10.9</td>\n",
       "      <td>beverages</td>\n",
       "      <td>161636</td>\n",
       "      <td>27</td>\n",
       "      <td>1</td>\n",
       "      <td>17</td>\n",
       "      <td>9.0</td>\n",
       "      <td>36</td>\n",
       "      <td>Regular customer</td>\n",
       "      <td>10.553333</td>\n",
       "      <td>high_spender</td>\n",
       "    </tr>\n",
       "    <tr>\n",
       "      <th>2841</th>\n",
       "      <td>528251</td>\n",
       "      <td>2065</td>\n",
       "      <td>Carb Smart Chocolate Ice Cream</td>\n",
       "      <td>1.8</td>\n",
       "      <td>frozen</td>\n",
       "      <td>161636</td>\n",
       "      <td>27</td>\n",
       "      <td>1</td>\n",
       "      <td>17</td>\n",
       "      <td>9.0</td>\n",
       "      <td>36</td>\n",
       "      <td>Regular customer</td>\n",
       "      <td>10.553333</td>\n",
       "      <td>high_spender</td>\n",
       "    </tr>\n",
       "    <tr>\n",
       "      <th>2842</th>\n",
       "      <td>528251</td>\n",
       "      <td>7901</td>\n",
       "      <td>Ice Pops Sugar Free, Orange, Cherry, Grape</td>\n",
       "      <td>13.5</td>\n",
       "      <td>frozen</td>\n",
       "      <td>161636</td>\n",
       "      <td>27</td>\n",
       "      <td>1</td>\n",
       "      <td>17</td>\n",
       "      <td>9.0</td>\n",
       "      <td>36</td>\n",
       "      <td>Regular customer</td>\n",
       "      <td>10.553333</td>\n",
       "      <td>high_spender</td>\n",
       "    </tr>\n",
       "    <tr>\n",
       "      <th>2843</th>\n",
       "      <td>528251</td>\n",
       "      <td>41802</td>\n",
       "      <td>Sugar Free Real Desserts Gelatin Snacks</td>\n",
       "      <td>9.3</td>\n",
       "      <td>dairy eggs</td>\n",
       "      <td>161636</td>\n",
       "      <td>27</td>\n",
       "      <td>1</td>\n",
       "      <td>17</td>\n",
       "      <td>9.0</td>\n",
       "      <td>36</td>\n",
       "      <td>Regular customer</td>\n",
       "      <td>10.553333</td>\n",
       "      <td>high_spender</td>\n",
       "    </tr>\n",
       "  </tbody>\n",
       "</table>\n",
       "</div>"
      ],
      "text/plain": [
       "      order_id  product_id                                product_name  \\\n",
       "2839    528251           1                  Chocolate Sandwich Cookies   \n",
       "2840    528251       34518                        Diet Lemon-Lime Soda   \n",
       "2841    528251        2065              Carb Smart Chocolate Ice Cream   \n",
       "2842    528251        7901  Ice Pops Sugar Free, Orange, Cherry, Grape   \n",
       "2843    528251       41802     Sugar Free Real Desserts Gelatin Snacks   \n",
       "\n",
       "      prices  department  user_id  order_number  order_dow  order_hour_of_day  \\\n",
       "2839     5.8      snacks   161636            27          1                 17   \n",
       "2840    10.9   beverages   161636            27          1                 17   \n",
       "2841     1.8      frozen   161636            27          1                 17   \n",
       "2842    13.5      frozen   161636            27          1                 17   \n",
       "2843     9.3  dairy eggs   161636            27          1                 17   \n",
       "\n",
       "      days_since_prior_order  max_order      loyalty_flag  spending_flag  \\\n",
       "2839                     9.0         36  Regular customer      10.553333   \n",
       "2840                     9.0         36  Regular customer      10.553333   \n",
       "2841                     9.0         36  Regular customer      10.553333   \n",
       "2842                     9.0         36  Regular customer      10.553333   \n",
       "2843                     9.0         36  Regular customer      10.553333   \n",
       "\n",
       "      spender_flag  \n",
       "2839  high_spender  \n",
       "2840  high_spender  \n",
       "2841  high_spender  \n",
       "2842  high_spender  \n",
       "2843  high_spender  "
      ]
     },
     "execution_count": 102,
     "metadata": {},
     "output_type": "execute_result"
    }
   ],
   "source": [
    "df_high_spender.head()"
   ]
  },
  {
   "cell_type": "code",
   "execution_count": 105,
   "id": "afb0848c",
   "metadata": {},
   "outputs": [
    {
     "data": {
      "text/plain": [
       "<AxesSubplot:xlabel='order_hour_of_day', ylabel='prices'>"
      ]
     },
     "execution_count": 105,
     "metadata": {},
     "output_type": "execute_result"
    },
    {
     "data": {
      "image/png": "[encoded data removed]",
      "text/plain": [
       "<Figure size 432x288 with 1 Axes>"
      ]
     },
     "metadata": {
      "needs_background": "light"
     },
     "output_type": "display_data"
    }
   ],
   "source": [
    "# Is there a period of time when high priced items are bought so Instacart can maintain inventory accordingly?\n",
    "sns.lineplot(data=df_ready,x='order_hour_of_day',y='prices')"
   ]
  },
  {
   "cell_type": "code",
   "execution_count": null,
   "id": "933fca17",
   "metadata": {},
   "outputs": [],
   "source": [
    "df_high_spender.plot.bar(x='order-hour-of-day',y='spender_flag')"
   ]
  },
  {
   "cell_type": "code",
   "execution_count": null,
   "id": "aa544377",
   "metadata": {},
   "outputs": [],
   "source": [
    "sns.lineplot(data=df_high_spender,x='order_hour_of_day',y='prices')"
   ]
  },
  {
   "cell_type": "code",
   "execution_count": null,
   "id": "b89028d4",
   "metadata": {},
   "outputs": [],
   "source": [
    "df_ready.to_pickle(r'C:\\Users\\Pakshil Jani\\Desktop\\career foundry\\Chapter-4 Python\\Instacart project analysis\\Data\\Prepared Data\\df_ready_analyzed.pkl')"
   ]
  },
  {
   "cell_type": "markdown",
   "id": "400cd0cf",
   "metadata": {},
   "source": [
    "# More analysis coming in the next notebook"
   ]
  }
 ],
 "metadata": {
  "kernelspec": {
   "display_name": "Python 3",
   "language": "python",
   "name": "python3"
  },
  "language_info": {
   "codemirror_mode": {
    "name": "ipython",
    "version": 3
   },
   "file_extension": ".py",
   "mimetype": "text/x-python",
   "name": "python",
   "nbconvert_exporter": "python",
   "pygments_lexer": "ipython3",
   "version": "3.8.8"
  }
 },
 "nbformat": 4,
 "nbformat_minor": 5
}
