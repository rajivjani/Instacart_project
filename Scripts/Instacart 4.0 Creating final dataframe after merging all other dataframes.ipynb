{
 "cells": [
  {
   "cell_type": "markdown",
   "id": "409a426a",
   "metadata": {},
   "source": [
    "# Importing libraries\n",
    "import pandas as pd\n",
    "import numpy as np\n",
    "import os"
   ]
  },
  {
   "cell_type": "markdown",
   "id": "ea6dfc7e",
   "metadata": {},
   "source": [
    "# Importing data files\n",
    "df_ord_prd_dept = pd.read_pickle(r'C:\\Users\\Pakshil Jani\\Desktop\\career foundry\\Chapter-4 Python\\Instacart project analysis\\Data\\Prepared Data\\orders_products_depts_merged.pkl')"
   ]
  },
  {
   "cell_type": "code",
   "execution_count": 6,
   "id": "ba416bb6",
   "metadata": {},
   "outputs": [],
   "source": [
    "df_ord_clean = pd.read_csv(r'C:\\Users\\Pakshil Jani\\Desktop\\career foundry\\Chapter-4 Python\\Instacart project analysis\\Data\\Prepared Data\\orders_clean.csv',index_col=False)"
   ]
  },
  {
   "cell_type": "code",
   "execution_count": 4,
   "id": "6d1187f5",
   "metadata": {
    "scrolled": true
   },
   "outputs": [
    {
     "data": {
      "text/html": [
       "<div>\n",
       "<style scoped>\n",
       "    .dataframe tbody tr th:only-of-type {\n",
       "        vertical-align: middle;\n",
       "    }\n",
       "\n",
       "    .dataframe tbody tr th {\n",
       "        vertical-align: top;\n",
       "    }\n",
       "\n",
       "    .dataframe thead th {\n",
       "        text-align: right;\n",
       "    }\n",
       "</style>\n",
       "<table border=\"1\" class=\"dataframe\">\n",
       "  <thead>\n",
       "    <tr style=\"text-align: right;\">\n",
       "      <th></th>\n",
       "      <th>order_id</th>\n",
       "      <th>product_id</th>\n",
       "      <th>add_to_cart_order</th>\n",
       "      <th>reordered</th>\n",
       "      <th>product_name</th>\n",
       "      <th>aisle_id</th>\n",
       "      <th>product_id</th>\n",
       "      <th>prices</th>\n",
       "      <th>department</th>\n",
       "    </tr>\n",
       "  </thead>\n",
       "  <tbody>\n",
       "    <tr>\n",
       "      <th>0</th>\n",
       "      <td>1107</td>\n",
       "      <td>1</td>\n",
       "      <td>7</td>\n",
       "      <td>0</td>\n",
       "      <td>Chocolate Sandwich Cookies</td>\n",
       "      <td>61</td>\n",
       "      <td>1</td>\n",
       "      <td>5.8</td>\n",
       "      <td>snacks</td>\n",
       "    </tr>\n",
       "    <tr>\n",
       "      <th>1</th>\n",
       "      <td>5319</td>\n",
       "      <td>1</td>\n",
       "      <td>3</td>\n",
       "      <td>1</td>\n",
       "      <td>Chocolate Sandwich Cookies</td>\n",
       "      <td>61</td>\n",
       "      <td>1</td>\n",
       "      <td>5.8</td>\n",
       "      <td>snacks</td>\n",
       "    </tr>\n",
       "    <tr>\n",
       "      <th>2</th>\n",
       "      <td>7540</td>\n",
       "      <td>1</td>\n",
       "      <td>4</td>\n",
       "      <td>1</td>\n",
       "      <td>Chocolate Sandwich Cookies</td>\n",
       "      <td>61</td>\n",
       "      <td>1</td>\n",
       "      <td>5.8</td>\n",
       "      <td>snacks</td>\n",
       "    </tr>\n",
       "  </tbody>\n",
       "</table>\n",
       "</div>"
      ],
      "text/plain": [
       "   order_id  product_id  add_to_cart_order  reordered  \\\n",
       "0      1107           1                  7          0   \n",
       "1      5319           1                  3          1   \n",
       "2      7540           1                  4          1   \n",
       "\n",
       "                 product_name  aisle_id  product_id  prices department  \n",
       "0  Chocolate Sandwich Cookies        61           1     5.8     snacks  \n",
       "1  Chocolate Sandwich Cookies        61           1     5.8     snacks  \n",
       "2  Chocolate Sandwich Cookies        61           1     5.8     snacks  "
      ]
     },
     "execution_count": 4,
     "metadata": {},
     "output_type": "execute_result"
    }
   ],
   "source": [
    "df_ord_prd_dept.head(3)"
   ]
  },
  {
   "cell_type": "code",
   "execution_count": null,
   "id": "df2c6e14",
   "metadata": {},
   "outputs": [],
   "source": [
    "# df_ord_prd_dept has duplicate column with name product_id. We will remove it before exporting the merged dataframe"
   ]
  },
  {
   "cell_type": "code",
   "execution_count": 8,
   "id": "dad242f9",
   "metadata": {},
   "outputs": [
    {
     "data": {
      "text/html": [
       "<div>\n",
       "<style scoped>\n",
       "    .dataframe tbody tr th:only-of-type {\n",
       "        vertical-align: middle;\n",
       "    }\n",
       "\n",
       "    .dataframe tbody tr th {\n",
       "        vertical-align: top;\n",
       "    }\n",
       "\n",
       "    .dataframe thead th {\n",
       "        text-align: right;\n",
       "    }\n",
       "</style>\n",
       "<table border=\"1\" class=\"dataframe\">\n",
       "  <thead>\n",
       "    <tr style=\"text-align: right;\">\n",
       "      <th></th>\n",
       "      <th>Unnamed: 0</th>\n",
       "      <th>order_id</th>\n",
       "      <th>user_id</th>\n",
       "      <th>order_number</th>\n",
       "      <th>order_dow</th>\n",
       "      <th>order_hour_of_day</th>\n",
       "      <th>days_since_prior_order</th>\n",
       "    </tr>\n",
       "  </thead>\n",
       "  <tbody>\n",
       "    <tr>\n",
       "      <th>0</th>\n",
       "      <td>0</td>\n",
       "      <td>2539329</td>\n",
       "      <td>1</td>\n",
       "      <td>1</td>\n",
       "      <td>2</td>\n",
       "      <td>8</td>\n",
       "      <td>NaN</td>\n",
       "    </tr>\n",
       "    <tr>\n",
       "      <th>1</th>\n",
       "      <td>1</td>\n",
       "      <td>2398795</td>\n",
       "      <td>1</td>\n",
       "      <td>2</td>\n",
       "      <td>3</td>\n",
       "      <td>7</td>\n",
       "      <td>15.0</td>\n",
       "    </tr>\n",
       "    <tr>\n",
       "      <th>2</th>\n",
       "      <td>2</td>\n",
       "      <td>473747</td>\n",
       "      <td>1</td>\n",
       "      <td>3</td>\n",
       "      <td>3</td>\n",
       "      <td>12</td>\n",
       "      <td>21.0</td>\n",
       "    </tr>\n",
       "  </tbody>\n",
       "</table>\n",
       "</div>"
      ],
      "text/plain": [
       "   Unnamed: 0  order_id  user_id  order_number  order_dow  order_hour_of_day  \\\n",
       "0           0   2539329        1             1          2                  8   \n",
       "1           1   2398795        1             2          3                  7   \n",
       "2           2    473747        1             3          3                 12   \n",
       "\n",
       "   days_since_prior_order  \n",
       "0                     NaN  \n",
       "1                    15.0  \n",
       "2                    21.0  "
      ]
     },
     "execution_count": 8,
     "metadata": {},
     "output_type": "execute_result"
    }
   ],
   "source": [
    "df_ord_clean.head(3)"
   ]
  },
  {
   "cell_type": "code",
   "execution_count": 9,
   "id": "e8d29884",
   "metadata": {},
   "outputs": [
    {
     "data": {
      "text/plain": [
       "(32399732, 9)"
      ]
     },
     "execution_count": 9,
     "metadata": {},
     "output_type": "execute_result"
    }
   ],
   "source": [
    "df_ord_prd_dept.shape"
   ]
  },
  {
   "cell_type": "code",
   "execution_count": 10,
   "id": "c27ae396",
   "metadata": {},
   "outputs": [
    {
     "data": {
      "text/plain": [
       "(3421083, 7)"
      ]
     },
     "execution_count": 10,
     "metadata": {},
     "output_type": "execute_result"
    }
   ],
   "source": [
    "df_ord_clean.shape"
   ]
  },
  {
   "cell_type": "markdown",
   "id": "2c477d29",
   "metadata": {},
   "source": [
    "# Merging of two dataframes to create one final dataframe\n",
    "df_merged = df_ord_prd_dept.merge(df_ord_clean,on='order_id',indicator=True)"
   ]
  },
  {
   "cell_type": "code",
   "execution_count": 12,
   "id": "bccb1fc9",
   "metadata": {},
   "outputs": [
    {
     "data": {
      "text/html": [
       "<div>\n",
       "<style scoped>\n",
       "    .dataframe tbody tr th:only-of-type {\n",
       "        vertical-align: middle;\n",
       "    }\n",
       "\n",
       "    .dataframe tbody tr th {\n",
       "        vertical-align: top;\n",
       "    }\n",
       "\n",
       "    .dataframe thead th {\n",
       "        text-align: right;\n",
       "    }\n",
       "</style>\n",
       "<table border=\"1\" class=\"dataframe\">\n",
       "  <thead>\n",
       "    <tr style=\"text-align: right;\">\n",
       "      <th></th>\n",
       "      <th>order_id</th>\n",
       "      <th>product_id</th>\n",
       "      <th>add_to_cart_order</th>\n",
       "      <th>reordered</th>\n",
       "      <th>product_name</th>\n",
       "      <th>aisle_id</th>\n",
       "      <th>product_id</th>\n",
       "      <th>prices</th>\n",
       "      <th>department</th>\n",
       "      <th>Unnamed: 0</th>\n",
       "      <th>user_id</th>\n",
       "      <th>order_number</th>\n",
       "      <th>order_dow</th>\n",
       "      <th>order_hour_of_day</th>\n",
       "      <th>days_since_prior_order</th>\n",
       "      <th>_merge</th>\n",
       "    </tr>\n",
       "  </thead>\n",
       "  <tbody>\n",
       "    <tr>\n",
       "      <th>0</th>\n",
       "      <td>1107</td>\n",
       "      <td>1</td>\n",
       "      <td>7</td>\n",
       "      <td>0</td>\n",
       "      <td>Chocolate Sandwich Cookies</td>\n",
       "      <td>61</td>\n",
       "      <td>1</td>\n",
       "      <td>5.8</td>\n",
       "      <td>snacks</td>\n",
       "      <td>634840</td>\n",
       "      <td>38259</td>\n",
       "      <td>2</td>\n",
       "      <td>1</td>\n",
       "      <td>11</td>\n",
       "      <td>7.0</td>\n",
       "      <td>both</td>\n",
       "    </tr>\n",
       "    <tr>\n",
       "      <th>1</th>\n",
       "      <td>1107</td>\n",
       "      <td>46149</td>\n",
       "      <td>6</td>\n",
       "      <td>0</td>\n",
       "      <td>Zero Calorie Cola</td>\n",
       "      <td>77</td>\n",
       "      <td>46149</td>\n",
       "      <td>13.4</td>\n",
       "      <td>beverages</td>\n",
       "      <td>634840</td>\n",
       "      <td>38259</td>\n",
       "      <td>2</td>\n",
       "      <td>1</td>\n",
       "      <td>11</td>\n",
       "      <td>7.0</td>\n",
       "      <td>both</td>\n",
       "    </tr>\n",
       "    <tr>\n",
       "      <th>2</th>\n",
       "      <td>1107</td>\n",
       "      <td>9434</td>\n",
       "      <td>2</td>\n",
       "      <td>0</td>\n",
       "      <td>Bag of Large Lemons</td>\n",
       "      <td>34</td>\n",
       "      <td>9434</td>\n",
       "      <td>8.3</td>\n",
       "      <td>frozen</td>\n",
       "      <td>634840</td>\n",
       "      <td>38259</td>\n",
       "      <td>2</td>\n",
       "      <td>1</td>\n",
       "      <td>11</td>\n",
       "      <td>7.0</td>\n",
       "      <td>both</td>\n",
       "    </tr>\n",
       "  </tbody>\n",
       "</table>\n",
       "</div>"
      ],
      "text/plain": [
       "   order_id  product_id  add_to_cart_order  reordered  \\\n",
       "0      1107           1                  7          0   \n",
       "1      1107       46149                  6          0   \n",
       "2      1107        9434                  2          0   \n",
       "\n",
       "                 product_name  aisle_id  product_id  prices department  \\\n",
       "0  Chocolate Sandwich Cookies        61           1     5.8     snacks   \n",
       "1           Zero Calorie Cola        77       46149    13.4  beverages   \n",
       "2         Bag of Large Lemons        34        9434     8.3     frozen   \n",
       "\n",
       "   Unnamed: 0  user_id  order_number  order_dow  order_hour_of_day  \\\n",
       "0      634840    38259             2          1                 11   \n",
       "1      634840    38259             2          1                 11   \n",
       "2      634840    38259             2          1                 11   \n",
       "\n",
       "   days_since_prior_order _merge  \n",
       "0                     7.0   both  \n",
       "1                     7.0   both  \n",
       "2                     7.0   both  "
      ]
     },
     "execution_count": 12,
     "metadata": {},
     "output_type": "execute_result"
    }
   ],
   "source": [
    "df_merged.head(3)"
   ]
  },
  {
   "cell_type": "code",
   "execution_count": 14,
   "id": "a64bff5b",
   "metadata": {},
   "outputs": [
    {
     "data": {
      "text/plain": [
       "both          32399732\n",
       "left_only            0\n",
       "right_only           0\n",
       "Name: _merge, dtype: int64"
      ]
     },
     "execution_count": 14,
     "metadata": {},
     "output_type": "execute_result"
    }
   ],
   "source": [
    "df_merged._merge.value_counts()"
   ]
  },
  {
   "cell_type": "code",
   "execution_count": 15,
   "id": "feef3874",
   "metadata": {},
   "outputs": [
    {
     "data": {
      "text/plain": [
       "(32399732, 16)"
      ]
     },
     "execution_count": 15,
     "metadata": {},
     "output_type": "execute_result"
    }
   ],
   "source": [
    "df_merged.shape"
   ]
  },
  {
   "cell_type": "code",
   "execution_count": 17,
   "id": "68402c25",
   "metadata": {
    "scrolled": true
   },
   "outputs": [
    {
     "name": "stdout",
     "output_type": "stream",
     "text": [
      "<class 'pandas.core.frame.DataFrame'>\n",
      "Int64Index: 32399732 entries, 0 to 32399731\n",
      "Data columns (total 16 columns):\n",
      " #   Column                  Dtype   \n",
      "---  ------                  -----   \n",
      " 0   order_id                int64   \n",
      " 1   product_id              int64   \n",
      " 2   add_to_cart_order       int64   \n",
      " 3   reordered               int64   \n",
      " 4   product_name            object  \n",
      " 5   aisle_id                int64   \n",
      " 6   product_id              int64   \n",
      " 7   prices                  float64 \n",
      " 8   department              object  \n",
      " 9   Unnamed: 0              int64   \n",
      " 10  user_id                 int64   \n",
      " 11  order_number            int64   \n",
      " 12  order_dow               int64   \n",
      " 13  order_hour_of_day       int64   \n",
      " 14  days_since_prior_order  float64 \n",
      " 15  _merge                  category\n",
      "dtypes: category(1), float64(2), int64(11), object(2)\n",
      "memory usage: 7.8 GB\n"
     ]
    }
   ],
   "source": [
    "df_merged.info(memory_usage='deep')"
   ]
  },
  {
   "cell_type": "code",
   "execution_count": null,
   "id": "97e72ea6",
   "metadata": {},
   "outputs": [],
   "source": [
    "# To save memory, we will only keep required columns for analysis"
   ]
  },
  {
   "cell_type": "code",
   "execution_count": 22,
   "id": "4b29f836",
   "metadata": {},
   "outputs": [],
   "source": [
    "required_columns = ['order_id','product_id','product_name','prices','department','user_id','order_number','order_dow','order_hour_of_day','days_since_prior_order']"
   ]
  },
  {
   "cell_type": "code",
   "execution_count": 23,
   "id": "89999585",
   "metadata": {},
   "outputs": [],
   "source": [
    "df_ready = df_merged[required_columns]"
   ]
  },
  {
   "cell_type": "code",
   "execution_count": 24,
   "id": "1cc28a2d",
   "metadata": {},
   "outputs": [
    {
     "data": {
      "text/html": [
       "<div>\n",
       "<style scoped>\n",
       "    .dataframe tbody tr th:only-of-type {\n",
       "        vertical-align: middle;\n",
       "    }\n",
       "\n",
       "    .dataframe tbody tr th {\n",
       "        vertical-align: top;\n",
       "    }\n",
       "\n",
       "    .dataframe thead th {\n",
       "        text-align: right;\n",
       "    }\n",
       "</style>\n",
       "<table border=\"1\" class=\"dataframe\">\n",
       "  <thead>\n",
       "    <tr style=\"text-align: right;\">\n",
       "      <th></th>\n",
       "      <th>order_id</th>\n",
       "      <th>product_id</th>\n",
       "      <th>product_id</th>\n",
       "      <th>product_name</th>\n",
       "      <th>prices</th>\n",
       "      <th>department</th>\n",
       "      <th>user_id</th>\n",
       "      <th>order_number</th>\n",
       "      <th>order_dow</th>\n",
       "      <th>order_hour_of_day</th>\n",
       "      <th>days_since_prior_order</th>\n",
       "    </tr>\n",
       "  </thead>\n",
       "  <tbody>\n",
       "    <tr>\n",
       "      <th>0</th>\n",
       "      <td>1107</td>\n",
       "      <td>1</td>\n",
       "      <td>1</td>\n",
       "      <td>Chocolate Sandwich Cookies</td>\n",
       "      <td>5.8</td>\n",
       "      <td>snacks</td>\n",
       "      <td>38259</td>\n",
       "      <td>2</td>\n",
       "      <td>1</td>\n",
       "      <td>11</td>\n",
       "      <td>7.0</td>\n",
       "    </tr>\n",
       "    <tr>\n",
       "      <th>1</th>\n",
       "      <td>1107</td>\n",
       "      <td>46149</td>\n",
       "      <td>46149</td>\n",
       "      <td>Zero Calorie Cola</td>\n",
       "      <td>13.4</td>\n",
       "      <td>beverages</td>\n",
       "      <td>38259</td>\n",
       "      <td>2</td>\n",
       "      <td>1</td>\n",
       "      <td>11</td>\n",
       "      <td>7.0</td>\n",
       "    </tr>\n",
       "    <tr>\n",
       "      <th>2</th>\n",
       "      <td>1107</td>\n",
       "      <td>9434</td>\n",
       "      <td>9434</td>\n",
       "      <td>Bag of Large Lemons</td>\n",
       "      <td>8.3</td>\n",
       "      <td>frozen</td>\n",
       "      <td>38259</td>\n",
       "      <td>2</td>\n",
       "      <td>1</td>\n",
       "      <td>11</td>\n",
       "      <td>7.0</td>\n",
       "    </tr>\n",
       "  </tbody>\n",
       "</table>\n",
       "</div>"
      ],
      "text/plain": [
       "   order_id  product_id  product_id                product_name  prices  \\\n",
       "0      1107           1           1  Chocolate Sandwich Cookies     5.8   \n",
       "1      1107       46149       46149           Zero Calorie Cola    13.4   \n",
       "2      1107        9434        9434         Bag of Large Lemons     8.3   \n",
       "\n",
       "  department  user_id  order_number  order_dow  order_hour_of_day  \\\n",
       "0     snacks    38259             2          1                 11   \n",
       "1  beverages    38259             2          1                 11   \n",
       "2     frozen    38259             2          1                 11   \n",
       "\n",
       "   days_since_prior_order  \n",
       "0                     7.0  \n",
       "1                     7.0  \n",
       "2                     7.0  "
      ]
     },
     "execution_count": 24,
     "metadata": {},
     "output_type": "execute_result"
    }
   ],
   "source": [
    "df_ready.head(3)"
   ]
  },
  {
   "cell_type": "code",
   "execution_count": 25,
   "id": "bfffad4c",
   "metadata": {
    "scrolled": true
   },
   "outputs": [
    {
     "data": {
      "text/plain": [
       "(32399732, 11)"
      ]
     },
     "execution_count": 25,
     "metadata": {},
     "output_type": "execute_result"
    }
   ],
   "source": [
    "df_ready.shape"
   ]
  },
  {
   "cell_type": "code",
   "execution_count": null,
   "id": "5e90824d",
   "metadata": {},
   "outputs": [],
   "source": [
    "# Now, before exporting this dataframe, let us remove duplicate column name product_id"
   ]
  },
  {
   "cell_type": "code",
   "execution_count": 29,
   "id": "4305e4a2",
   "metadata": {},
   "outputs": [],
   "source": [
    "df_ready = df_ready.loc[:,~df_ready.columns.duplicated()]"
   ]
  },
  {
   "cell_type": "code",
   "execution_count": 30,
   "id": "259b580b",
   "metadata": {},
   "outputs": [
    {
     "data": {
      "text/html": [
       "<div>\n",
       "<style scoped>\n",
       "    .dataframe tbody tr th:only-of-type {\n",
       "        vertical-align: middle;\n",
       "    }\n",
       "\n",
       "    .dataframe tbody tr th {\n",
       "        vertical-align: top;\n",
       "    }\n",
       "\n",
       "    .dataframe thead th {\n",
       "        text-align: right;\n",
       "    }\n",
       "</style>\n",
       "<table border=\"1\" class=\"dataframe\">\n",
       "  <thead>\n",
       "    <tr style=\"text-align: right;\">\n",
       "      <th></th>\n",
       "      <th>order_id</th>\n",
       "      <th>product_id</th>\n",
       "      <th>product_name</th>\n",
       "      <th>prices</th>\n",
       "      <th>department</th>\n",
       "      <th>user_id</th>\n",
       "      <th>order_number</th>\n",
       "      <th>order_dow</th>\n",
       "      <th>order_hour_of_day</th>\n",
       "      <th>days_since_prior_order</th>\n",
       "    </tr>\n",
       "  </thead>\n",
       "  <tbody>\n",
       "    <tr>\n",
       "      <th>0</th>\n",
       "      <td>1107</td>\n",
       "      <td>1</td>\n",
       "      <td>Chocolate Sandwich Cookies</td>\n",
       "      <td>5.8</td>\n",
       "      <td>snacks</td>\n",
       "      <td>38259</td>\n",
       "      <td>2</td>\n",
       "      <td>1</td>\n",
       "      <td>11</td>\n",
       "      <td>7.0</td>\n",
       "    </tr>\n",
       "    <tr>\n",
       "      <th>1</th>\n",
       "      <td>1107</td>\n",
       "      <td>46149</td>\n",
       "      <td>Zero Calorie Cola</td>\n",
       "      <td>13.4</td>\n",
       "      <td>beverages</td>\n",
       "      <td>38259</td>\n",
       "      <td>2</td>\n",
       "      <td>1</td>\n",
       "      <td>11</td>\n",
       "      <td>7.0</td>\n",
       "    </tr>\n",
       "    <tr>\n",
       "      <th>2</th>\n",
       "      <td>1107</td>\n",
       "      <td>9434</td>\n",
       "      <td>Bag of Large Lemons</td>\n",
       "      <td>8.3</td>\n",
       "      <td>frozen</td>\n",
       "      <td>38259</td>\n",
       "      <td>2</td>\n",
       "      <td>1</td>\n",
       "      <td>11</td>\n",
       "      <td>7.0</td>\n",
       "    </tr>\n",
       "  </tbody>\n",
       "</table>\n",
       "</div>"
      ],
      "text/plain": [
       "   order_id  product_id                product_name  prices department  \\\n",
       "0      1107           1  Chocolate Sandwich Cookies     5.8     snacks   \n",
       "1      1107       46149           Zero Calorie Cola    13.4  beverages   \n",
       "2      1107        9434         Bag of Large Lemons     8.3     frozen   \n",
       "\n",
       "   user_id  order_number  order_dow  order_hour_of_day  days_since_prior_order  \n",
       "0    38259             2          1                 11                     7.0  \n",
       "1    38259             2          1                 11                     7.0  \n",
       "2    38259             2          1                 11                     7.0  "
      ]
     },
     "execution_count": 30,
     "metadata": {},
     "output_type": "execute_result"
    }
   ],
   "source": [
    "df_ready.head(3)"
   ]
  },
  {
   "cell_type": "code",
   "execution_count": 31,
   "id": "d6bc344a",
   "metadata": {},
   "outputs": [],
   "source": [
    "df_ready.to_pickle(r'C:\\Users\\Pakshil Jani\\Desktop\\career foundry\\Chapter-4 Python\\Instacart project analysis\\Data\\Prepared Data\\df_ready.pkl')"
   ]
  }
 ],
 "metadata": {
  "kernelspec": {
   "display_name": "Python 3",
   "language": "python",
   "name": "python3"
  },
  "language_info": {
   "codemirror_mode": {
    "name": "ipython",
    "version": 3
   },
   "file_extension": ".py",
   "mimetype": "text/x-python",
   "name": "python",
   "nbconvert_exporter": "python",
   "pygments_lexer": "ipython3",
   "version": "3.8.8"
  }
 },
 "nbformat": 4,
 "nbformat_minor": 5
}
